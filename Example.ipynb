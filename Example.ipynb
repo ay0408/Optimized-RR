{
 "cells": [
  {
   "cell_type": "code",
   "execution_count": 1,
   "metadata": {},
   "outputs": [],
   "source": [
    "import numpy as np\n",
    "from scipy import optimize\n",
    "import itertools\n",
    "import math\n",
    "import random\n",
    "import matplotlib.pyplot as plt"
   ]
  },
  {
   "cell_type": "code",
   "execution_count": 2,
   "metadata": {},
   "outputs": [],
   "source": [
    "def two_opt(a,eps):\n",
    "    c = math.exp(eps[0]); d = math.exp(eps[1])\n",
    "    if c*d >= (a[0]-1)*(a[1]-1) and a[1]*c-a[0]*d+a[0]-a[1] >= 0:\n",
    "        s0 = (a[1]*c*d+(a[0]-1)*(a[1]-1)*d-(a[0]-1)*(a[1]-1))/(d+a[1]-1)\n",
    "        s1 = 1\n",
    "        s2 = (a[1]*c-(a[0]-1)*d+a[0]-1)/(d+a[1]-1)\n",
    "    elif c*d >= (a[0]-1)*(a[1]-1) and a[1]*c-a[0]*d+a[0]-a[1] < 0:\n",
    "        s0 = (a[0]*c*d+(a[0]-1)*(a[1]-1)*c-(a[0]-1)*(a[1]-1))/(c+a[0]-1)\n",
    "        s1 = (-(a[1]-1)*c+a[0]*d+a[1]-1)/(c+a[0]-1)\n",
    "        s2 = 1\n",
    "    elif c*d < (a[0]-1)*(a[1]-1) and (a[0]-a[1])*c*d+a[0]*(a[1]-1)*c-(a[0]-1)*a[1]*d >= 0:\n",
    "        s0 = ((a[0]-1)*c*(d+a[1]-1))/(-c*d+c+(a[0]-1)*a[1])\n",
    "        s1 = ((a[1]-1)*c*d-(a[1]-1)*c+(a[0]-1)*a[1]*d)/(-c*d+c+(a[0]-1)*a[1])\n",
    "        s2 = ((a[0]-1)*c*(d+a[1]-1))/(-c*d+c+(a[0]-1)*a[1])\n",
    "    else:\n",
    "        s0 = ((a[1]-1)*d*(c+a[0]-1))/(-c*d+d+a[0]*(a[1]-1))\n",
    "        s1 = ((a[1]-1)*d*(c+a[0]-1))/(-c*d+d+a[0]*(a[1]-1))\n",
    "        s2 = ((a[0]-1)*c*d+a[0]*(a[1]-1)*c-(a[0]-1)*d)/(-c*d+d+a[0]*(a[1]-1))\n",
    "    s3 = 1\n",
    "    return s0,s1,s2\n",
    "\n",
    "def k_inductive(k,a,eps):\n",
    "    x = np.zeros((k+1,k+1))\n",
    "    x[2][0],x[2][1],x[2][2] = two_opt([a[0],a[1]],[eps[0],eps[1]])\n",
    "    s = a[0]; p = a[0]\n",
    "    for i in range(3,k+1):\n",
    "        for j in range(1,i):\n",
    "            x[i][j] = a[i-1]*x[i-1][j]-a[i-1]+1\n",
    "        s += a[i-2]; p *= a[i-2]\n",
    "        s0 = 0\n",
    "        for j in range(1,i):\n",
    "            s0 += (a[j-1]-1)*x[i][j]\n",
    "        left = [[1,a[i-1]-1], [1,-math.exp(eps[i-1])]]\n",
    "        right = [a[i-1]*x[i-1][0], -s0-p+s-i+2+math.exp(eps[i-1])*(p-1)]\n",
    "        x[i][0],x[i][i] = np.linalg.solve(left,right)\n",
    "        f = 0\n",
    "        if x[i][0] < 1 or x[i][i] < 1:\n",
    "            f = 1\n",
    "        for j in range(1,i+1):\n",
    "            if x[i][0] < x[i][j]:\n",
    "                f = 1; break\n",
    "        if f == 1:\n",
    "            x[i][0] = a[i-1]*x[i-1][0]-a[i-1]+1\n",
    "            x[i][i] = 1\n",
    "            eps[i-1] = math.log((x[i][0]+s0+p-s+i-2)/(x[i][i]+p-1))\n",
    "            \n",
    "    return x[k],eps"
   ]
  },
  {
   "cell_type": "code",
   "execution_count": 3,
   "metadata": {},
   "outputs": [],
   "source": [
    "def dataset(N,t):\n",
    "    a = np.zeros(t); b = np.zeros(t); c = np.zeros(t); d = np.zeros(t)\n",
    "    \n",
    "    for i in range(t):\n",
    "        a[i] = np.random.binomial(N,1/3)\n",
    "        b[i] = np.random.binomial(N-a[i],1/3)\n",
    "        c[i] = np.random.binomial(N-a[i]-b[i],2/5)\n",
    "        d[i] = N-a[i]-b[i]-c[i]\n",
    "    \n",
    "    return a,b,c,d"
   ]
  },
  {
   "cell_type": "code",
   "execution_count": 4,
   "metadata": {},
   "outputs": [],
   "source": [
    "def RR(eps,a,b,c,d,N,t):\n",
    "    g = np.zeros(N); gRR = np.zeros(N)\n",
    "    for i in range(t):\n",
    "        k = 0\n",
    "        for j in range(int(a[i])):\n",
    "            g[k] = 1; k += 1\n",
    "        for j in range(int(b[i])):\n",
    "            g[k] = 2; k += 1\n",
    "        for j in range(int(c[i])):\n",
    "            g[k] = 3; k += 1\n",
    "        for j in range(int(d[i])):\n",
    "            g[k] = 4; k += 1\n",
    "    aRR = np.zeros(t); bRR = np.zeros(t); cRR = np.zeros(t); dRR = np.zeros(t)\n",
    "    for i in range(t):\n",
    "        for j in range(N):\n",
    "            rand = random.random()\n",
    "            if rand >= 4/(math.exp(eps[i])+3):\n",
    "                gRR[j] = g[j]\n",
    "            else:\n",
    "                gRR[j] = random.randint(1,4)\n",
    "            if gRR[j] == 1:\n",
    "                aRR[i] += 1\n",
    "            elif gRR[j] == 2:\n",
    "                bRR[i] += 1\n",
    "            elif gRR[j] == 3:\n",
    "                cRR[i] += 1\n",
    "            else:\n",
    "                dRR[i] += 1\n",
    "    return aRR, bRR, cRR, dRR\n",
    "\n",
    "def chi2(a,b,c,d,N):\n",
    "    return (N*(a*d - b*c)**2)/((a+b)*(c+d)*(a+c)*(b+d))\n",
    "\n",
    "def evaluation(t,N):\n",
    "    eps = np.zeros(t); Kro_eps = np.zeros(t)\n",
    "    \n",
    "    for i in range(t):\n",
    "        eps[i] = random.uniform(3,5)\n",
    "    h_ans,eps = k_inductive(t,4*np.ones(t),eps)\n",
    "    s = np.sum(eps)\n",
    "    p = math.log(h_ans[0])\n",
    "    for i in range(t):\n",
    "        Kro_eps[i] = (p*eps[i])/s\n",
    "    \n",
    "    a,b,c,d = dataset(N,t)\n",
    "    stats = np.zeros(t); statsRR = np.zeros(t); Kro_statsRR = np.zeros(t)\n",
    "    aRR,bRR,cRR,dRR = RR(eps,a,b,c,d,N,t); Kro_aRR, Kro_bRR, Kro_cRR, Kro_dRR = RR(Kro_eps,a,b,c,d,N,t)\n",
    "    diffRR = 0; Kro_diffRR = 0\n",
    "    for i in range(t):\n",
    "        stats[i] = chi2(a[i],b[i],c[i],d[i],N)\n",
    "        statsRR[i] = chi2(aRR[i],bRR[i],cRR[i],dRR[i],N)\n",
    "        diffRR += math.fabs(stats[i]-statsRR[i])\n",
    "        Kro_statsRR[i] = chi2(Kro_aRR[i],Kro_bRR[i],Kro_cRR[i],Kro_dRR[i],N)\n",
    "        Kro_diffRR += math.fabs(stats[i]-Kro_statsRR[i])\n",
    "    \n",
    "    return diffRR/t, Kro_diffRR/t"
   ]
  },
  {
   "cell_type": "code",
   "execution_count": 5,
   "metadata": {},
   "outputs": [
    {
     "name": "stderr",
     "output_type": "stream",
     "text": [
      "The PostScript backend does not support transparency; partially transparent artists will be rendered opaque.\n",
      "The PostScript backend does not support transparency; partially transparent artists will be rendered opaque.\n"
     ]
    },
    {
     "name": "stdout",
     "output_type": "stream",
     "text": [
      "[[18.74045737 59.44948526]\n",
      " [21.92576267 63.23553897]\n",
      " [23.44523555 63.32806253]\n",
      " [20.52285693 64.11386596]\n",
      " [18.66420153 63.5331259 ]\n",
      " [20.92043422 64.4615367 ]\n",
      " [22.11987659 63.50163575]\n",
      " [18.50933255 62.30945143]\n",
      " [21.67815424 63.42094833]\n",
      " [20.09285875 63.58808526]]\n"
     ]
    },
    {
     "data": {
      "image/png": "[encoded data removed]",
      "text/plain": [
       "<Figure size 432x288 with 1 Axes>"
      ]
     },
     "metadata": {
      "needs_background": "light"
     },
     "output_type": "display_data"
    }
   ],
   "source": [
    "# k = 10 ~ 100, n = 1000\n",
    "\n",
    "diff = np.zeros((10,2))\n",
    "max_diff = np.zeros((10,2)); min_diff = 10000*np.ones((10,2))\n",
    "sum_diff = np.zeros((10,2))\n",
    "\n",
    "N = 2000\n",
    "y_err = np.zeros((2,10,3))\n",
    "\n",
    "for j in range(10):\n",
    "    for i in range(10):\n",
    "        diff[i][0], diff[i][1] = evaluation(10*(i+1),N)\n",
    "        for k in range(2):\n",
    "            if diff[i][k] > max_diff[i][k]:\n",
    "                max_diff[i][k] = diff[i][k]\n",
    "            if diff[i][k] < min_diff[i][k]:\n",
    "                min_diff[i][k] = diff[i][k]\n",
    "            sum_diff[i][k] += diff[i][k]\n",
    "diff = sum_diff/10\n",
    "\n",
    "for k in range(2):\n",
    "    y_err[0,:,k] = diff[:,k] - min_diff[:,k]\n",
    "    y_err[1,:,k] = max_diff[:,k] - diff[:,k]\n",
    "\n",
    "t = np.zeros(10)\n",
    "for i in range(10):\n",
    "    t[i] = 10*(i+1)\n",
    "print(diff)\n",
    "fig = plt.figure()\n",
    "plt.ylim(-0.05, np.max(max_diff)+5)\n",
    "plt.xlim(5, 105)\n",
    "plt.errorbar(t, diff[:,1], yerr = y_err[:,:,1], capsize=5, fmt='o', ecolor='black', markeredgecolor = \"black\", color='black')\n",
    "plt.plot(t, diff[:,1], marker=\"o\", markersize=5, color = \"black\", linestyle = \"-\", label = \"Kronecker\")\n",
    "plt.errorbar(t, diff[:,0], yerr = y_err[:,:,0], capsize=5, fmt='.', ecolor='blue', markeredgecolor = \"blue\", color='blue')\n",
    "plt.plot(t, diff[:,0], marker=\".\", markersize=5, color = \"blue\", linestyle = \"--\", label = \"Heuristic\")\n",
    "plt.legend(bbox_to_anchor=(0.49, 1.02), loc='lower center', borderaxespad=0, ncol=3, fontsize=12)\n",
    "plt.xlabel(\"Number of SNPs (= k)\", fontsize = 18)\n",
    "plt.ylabel(\"difference\", fontsize = 18)\n",
    "fig.savefig(\"Diff_stats.png\")\n",
    "fig.savefig(\"figs/Diff_stats.eps\")"
   ]
  },
  {
   "cell_type": "code",
   "execution_count": null,
   "metadata": {},
   "outputs": [],
   "source": []
  }
 ],
 "metadata": {
  "kernelspec": {
   "display_name": "Python 3",
   "language": "python",
   "name": "python3"
  },
  "language_info": {
   "codemirror_mode": {
    "name": "ipython",
    "version": 3
   },
   "file_extension": ".py",
   "mimetype": "text/x-python",
   "name": "python",
   "nbconvert_exporter": "python",
   "pygments_lexer": "ipython3",
   "version": "3.8.3"
  }
 },
 "nbformat": 4,
 "nbformat_minor": 4
}

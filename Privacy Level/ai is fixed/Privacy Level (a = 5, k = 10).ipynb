{
 "cells": [
  {
   "cell_type": "code",
   "execution_count": 1,
   "metadata": {},
   "outputs": [],
   "source": [
    "import numpy as np\n",
    "from scipy import optimize\n",
    "import itertools\n",
    "import math\n",
    "import random\n",
    "import matplotlib.pyplot as plt\n",
    "import warnings; warnings.simplefilter('ignore')"
   ]
  },
  {
   "cell_type": "code",
   "execution_count": 2,
   "metadata": {},
   "outputs": [],
   "source": [
    "def k_LP(k,a,eps):\n",
    "    var_n = int(math.pow(2,k))-1; ub_n = int(math.pow(2,k-1)*k)\n",
    "    l = np.zeros(k)\n",
    "    for i in range(k):\n",
    "        l[i] = int(i)\n",
    "    p = np.zeros(k)\n",
    "    p[0] = 1; comb = [0]*(k)\n",
    "    for i in range(1,k):\n",
    "        p[i] = p[i-1] + math.comb(k,i)\n",
    "        comb[i] = list(itertools.combinations(l,i))\n",
    "    t = np.ones(var_n)\n",
    "    u = 1\n",
    "    for h in range(1,k):\n",
    "        for i in range(int(math.comb(k,h))):\n",
    "            for j in range(h):\n",
    "                t[u] *= (a[int(comb[h][i][j])]-1)\n",
    "            u += 1\n",
    "    \n",
    "    A_ub = np.zeros((ub_n,var_n))\n",
    "    r = 0\n",
    "    for i in range(k):\n",
    "        A_ub[r][0] = -1; A_ub[r][i+1] = 1\n",
    "        r += 1\n",
    "    g = 1\n",
    "    for h in range(1,k-1):\n",
    "        for i in range(int(math.comb(k,h))):\n",
    "            for j in range(int(math.comb(k,h+1))):\n",
    "                f = np.zeros(h)\n",
    "                for z in range(h):\n",
    "                    for v in range(h+1):\n",
    "                        if comb[h+1][j][v] == comb[h][i][z]:\n",
    "                            f[z] = 1\n",
    "                            break\n",
    "                if np.sum(f) == h:\n",
    "                    A_ub[r][g] = -1; A_ub[r][int(p[h])+j] = 1\n",
    "                    r += 1\n",
    "            g += 1\n",
    "    for i in range(k):\n",
    "        A_ub[r+i][int(p[k-2])+i] = -1\n",
    "    \n",
    "    #print(A_ub)\n",
    "    \n",
    "    b_ub = np.zeros(ub_n)\n",
    "    for i in range(k):\n",
    "        b_ub[ub_n-1-i] = -1\n",
    "        \n",
    "    #print(b_ub)\n",
    "    \n",
    "    A_eq = np.zeros((k,var_n))\n",
    "    for s in range(k):\n",
    "        A_eq[s][0] = 1\n",
    "        c = 1\n",
    "        for h in range(1,k):\n",
    "            for i in range(int(math.comb(k,h))):\n",
    "                ff = 0\n",
    "                for j in range(h):\n",
    "                    if comb[h][i][j] == s:\n",
    "                        ff = 1\n",
    "                        break\n",
    "                if ff == 1:\n",
    "                    A_eq[s][c] = -(t[c]*math.exp(eps[s]))/(a[s]-1)\n",
    "                else:\n",
    "                    A_eq[s][c] = t[c]\n",
    "                c += 1\n",
    "    #print(A_eq)\n",
    "    \n",
    "    b_eq = np.zeros(k)\n",
    "    st = 1\n",
    "    for i in range(k):\n",
    "        st *= (a[i]-1)\n",
    "    for s in range(k):\n",
    "        b_eq[s] = (st*math.exp(eps[s]))/(a[s]-1)\n",
    "    \n",
    "    #print(b_eq)\n",
    "    \n",
    "    d = np.zeros(var_n); d[0] = 1\n",
    "    \n",
    "    ans = optimize.linprog(d,A_ub,b_ub,A_eq,b_eq)\n",
    "    \n",
    "    #print(ans.status)\n",
    "    #print(ans.success)\n",
    "    #print(ans.message)\n",
    "        \n",
    "    return ans"
   ]
  },
  {
   "cell_type": "code",
   "execution_count": 3,
   "metadata": {},
   "outputs": [],
   "source": [
    "def two_opt(a,eps):\n",
    "    c = math.exp(eps[0]); d = math.exp(eps[1])\n",
    "    if c*d >= (a[0]-1)*(a[1]-1) and a[1]*c-a[0]*d+a[0]-a[1] >= 0:\n",
    "        s0 = (a[1]*c*d+(a[0]-1)*(a[1]-1)*d-(a[0]-1)*(a[1]-1))/(d+a[1]-1)\n",
    "        s1 = 1\n",
    "        s2 = (a[1]*c-(a[0]-1)*d+a[0]-1)/(d+a[1]-1)\n",
    "    elif c*d >= (a[0]-1)*(a[1]-1) and a[1]*c-a[0]*d+a[0]-a[1] < 0:\n",
    "        s0 = (a[0]*c*d+(a[0]-1)*(a[1]-1)*c-(a[0]-1)*(a[1]-1))/(c+a[0]-1)\n",
    "        s1 = (-(a[1]-1)*c+a[0]*d+a[1]-1)/(c+a[0]-1)\n",
    "        s2 = 1\n",
    "    elif c*d < (a[0]-1)*(a[1]-1) and (a[0]-a[1])*c*d+a[0]*(a[1]-1)*c-(a[0]-1)*a[1]*d >= 0:\n",
    "        s0 = ((a[0]-1)*c*(d+a[1]-1))/(-c*d+c+(a[0]-1)*a[1])\n",
    "        s1 = ((a[1]-1)*c*d-(a[1]-1)*c+(a[0]-1)*a[1]*d)/(-c*d+c+(a[0]-1)*a[1])\n",
    "        s2 = ((a[0]-1)*c*(d+a[1]-1))/(-c*d+c+(a[0]-1)*a[1])\n",
    "    else:\n",
    "        s0 = ((a[1]-1)*d*(c+a[0]-1))/(-c*d+d+a[0]*(a[1]-1))\n",
    "        s1 = ((a[1]-1)*d*(c+a[0]-1))/(-c*d+d+a[0]*(a[1]-1))\n",
    "        s2 = ((a[0]-1)*c*d+a[0]*(a[1]-1)*c-(a[0]-1)*d)/(-c*d+d+a[0]*(a[1]-1))\n",
    "    s3 = 1\n",
    "    return s0,s1,s2\n",
    "\n",
    "def k_inductive(k,a,eps):\n",
    "    x = np.zeros((k+1,k+1))\n",
    "    x[2][0],x[2][1],x[2][2] = two_opt([a[0],a[1]],[eps[0],eps[1]])\n",
    "    s = a[0]; p = a[0]\n",
    "    for i in range(3,k+1):\n",
    "        for j in range(1,i):\n",
    "            x[i][j] = a[i-1]*x[i-1][j]-a[i-1]+1\n",
    "        s += a[i-2]; p *= a[i-2]\n",
    "        s0 = 0\n",
    "        for j in range(1,i):\n",
    "            s0 += (a[j-1]-1)*x[i][j]\n",
    "        left = [[1,a[i-1]-1], [1,-math.exp(eps[i-1])]]\n",
    "        right = [a[i-1]*x[i-1][0], -s0-p+s-i+2+math.exp(eps[i-1])*(p-1)]\n",
    "        x[i][0],x[i][i] = np.linalg.solve(left,right)\n",
    "        f = 0\n",
    "        if x[i][0] < 1 or x[i][i] < 1:\n",
    "            f = 1\n",
    "        for j in range(1,i+1):\n",
    "            if x[i][0] < x[i][j]:\n",
    "                f = 1; break\n",
    "        if f == 1:\n",
    "            x[i][0] = a[i-1]*x[i-1][0]-a[i-1]+1\n",
    "            x[i][i] = 1\n",
    "            eps[i-1] = math.log((x[i][0]+s0+p-s+i-2)/(x[i][i]+p-1))\n",
    "            \n",
    "    return x[k],eps"
   ]
  },
  {
   "cell_type": "code",
   "execution_count": 4,
   "metadata": {},
   "outputs": [],
   "source": [
    "def Kronecker(k,eps):\n",
    "    s = 0\n",
    "    for i in range(k):\n",
    "        s += eps[i]\n",
    "    return s"
   ]
  },
  {
   "cell_type": "code",
   "execution_count": 5,
   "metadata": {},
   "outputs": [],
   "source": [
    "def evaluation(k,a):\n",
    "    t = 200\n",
    "    p = np.zeros((t,4)); s = np.zeros(t); index = np.zeros(t)\n",
    "    eps = np.zeros(k)\n",
    "    \n",
    "    for i in range(t):\n",
    "        index[i] = i\n",
    "        for j in range(k):\n",
    "            eps[j] = random.uniform(2,8)\n",
    "        h_ans,eps = k_inductive(k,a,eps)\n",
    "        s[i] = Kronecker(k,eps)\n",
    "        p[i][0] = 1\n",
    "        p[i][1] = math.log(h_ans[0])/s[i]\n",
    "        opt = k_LP(k,a,eps)\n",
    "        p[i][2] = math.log(opt.x[0])/s[i]\n",
    "        if opt.status != 0:\n",
    "            p[i][2] = np.min([p[i][1],p[i][2]])\n",
    "        p[i][3] = s[i]\n",
    "    \n",
    "    p = sorted(p, key=lambda x: x[3])\n",
    "    privacy = np.zeros((t,3)); se = np.zeros(t); optimality = np.zeros(t)\n",
    "    for i in range(t):\n",
    "        for j in range(3):\n",
    "            privacy[i][j] = p[i][j]\n",
    "        optimality[i] = p[i][1]/p[i][2]\n",
    "        se[i] = p[i][3]\n",
    "\n",
    "    return privacy, optimality, se"
   ]
  },
  {
   "cell_type": "code",
   "execution_count": 6,
   "metadata": {},
   "outputs": [
    {
     "name": "stderr",
     "output_type": "stream",
     "text": [
      "The PostScript backend does not support transparency; partially transparent artists will be rendered opaque.\n",
      "The PostScript backend does not support transparency; partially transparent artists will be rendered opaque.\n",
      "The PostScript backend does not support transparency; partially transparent artists will be rendered opaque.\n",
      "The PostScript backend does not support transparency; partially transparent artists will be rendered opaque.\n"
     ]
    },
    {
     "data": {
      "image/png": "[encoded data removed]",
      "text/plain": [
       "<Figure size 432x288 with 1 Axes>"
      ]
     },
     "metadata": {
      "needs_background": "light"
     },
     "output_type": "display_data"
    },
    {
     "data": {
      "image/png": "[encoded data removed]",
      "text/plain": [
       "<Figure size 432x288 with 1 Axes>"
      ]
     },
     "metadata": {
      "needs_background": "light"
     },
     "output_type": "display_data"
    }
   ],
   "source": [
    "# k = 10\n",
    "\n",
    "privacy, optimality, s = evaluation(10,5*np.ones(10))\n",
    "\n",
    "fig = plt.figure()\n",
    "plt.ylim(-0.05, 1.1)\n",
    "plt.axhline(1, ls=\"--\",color=\"black\")\n",
    "plt.plot(s,privacy[:,0],marker=\"o\",color=\"black\",linestyle = \"-\",label=\"Kronecker\")\n",
    "plt.plot(s,privacy[:,2],marker=\"x\",color=\"red\",linestyle = \"dashdot\",label=\"Optimal\")\n",
    "plt.plot(s,privacy[:,1],marker=\".\",color=\"blue\",linestyle = \"--\",label=\"Heuristic\")\n",
    "plt.legend(bbox_to_anchor=(0.49, 1.02), loc='lower center', borderaxespad=0, ncol=3, fontsize=12)\n",
    "plt.xlabel(\"Sum of Privacy Levels\",fontsize=14)\n",
    "fig.savefig(\"Privacy_a_k=10.png\")\n",
    "fig.savefig(\"figs/Privacy_a_k=10.eps\")\n",
    "\n",
    "fig = plt.figure()\n",
    "plt.ylim(0.5, 1.5)\n",
    "plt.axhline(1, ls=\"--\",color=\"black\")\n",
    "plt.plot(s,optimality,marker=\".\",color=\"blue\",linestyle = \"--\", label = \"Optimality of Heuristic Method\")\n",
    "plt.legend(bbox_to_anchor=(0.49, 1.02), loc='lower center', borderaxespad=0, ncol=3, fontsize=12)\n",
    "plt.xlabel(\"Sum of Privacy Levels\",fontsize=14)\n",
    "fig.savefig(\"Optimality_a_k=10.png\")\n",
    "fig.savefig(\"figs/Optimality_a_k=10.eps\")"
   ]
  },
  {
   "cell_type": "code",
   "execution_count": null,
   "metadata": {},
   "outputs": [],
   "source": []
  }
 ],
 "metadata": {
  "kernelspec": {
   "display_name": "Python 3",
   "language": "python",
   "name": "python3"
  },
  "language_info": {
   "codemirror_mode": {
    "name": "ipython",
    "version": 3
   },
   "file_extension": ".py",
   "mimetype": "text/x-python",
   "name": "python",
   "nbconvert_exporter": "python",
   "pygments_lexer": "ipython3",
   "version": "3.8.3"
  }
 },
 "nbformat": 4,
 "nbformat_minor": 4
}
